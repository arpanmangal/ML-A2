{
 "cells": [
  {
   "cell_type": "code",
   "execution_count": 1,
   "metadata": {},
   "outputs": [],
   "source": [
    "import sys\n",
    "import json\n",
    "import time\n",
    "import pickle\n",
    "import numpy as np\n",
    "import json\n",
    "import pickle\n",
    "\n",
    "import nltk\n",
    "# nltk.download('punkt')\n",
    "from nltk.tokenize import word_tokenize"
   ]
  },
  {
   "cell_type": "code",
   "execution_count": 2,
   "metadata": {},
   "outputs": [],
   "source": [
    "# Reading the data\n",
    "def json_reader(fname, count=1000):\n",
    "    \"\"\"\n",
    "        Read multiple json files\n",
    "        Args:\n",
    "            fname: str: input file\n",
    "        Returns:\n",
    "            generator: iterator over documents \n",
    "    \"\"\"\n",
    "    for line in open(fname, mode=\"r\"):\n",
    "        if (count <= 0):\n",
    "            break\n",
    "        count -= 1\n",
    "        \n",
    "        data = json.loads(line)\n",
    "        rating = int(data['stars'])\n",
    "        review = np.array(word_tokenize(data['text']))\n",
    "        yield {'rating': rating, 'review': review}\n",
    "        \n",
    "trainset = './dataset/NB/train.json'\n",
    "testset = './dataset/NB/test.json'"
   ]
  },
  {
   "cell_type": "code",
   "execution_count": 3,
   "metadata": {},
   "outputs": [
    {
     "name": "stdout",
     "output_type": "stream",
     "text": [
      "40148\n",
      "Time Taken:  16.59535002708435\n"
     ]
    }
   ],
   "source": [
    "# Making of the dictionary\n",
    "tick = time.time()\n",
    "dictionary = {}\n",
    "for data in json_reader(trainset, 10000):\n",
    "    for word in data['review']:\n",
    "        dictionary[word] = 0\n",
    "        \n",
    "dictionary = { word : idx for idx, word in enumerate(dictionary)}\n",
    "print (len(dictionary))\n",
    "\n",
    "with open('dictionary.pickle', 'wb') as handle:\n",
    "    pickle.dump(dictionary, handle, protocol=pickle.HIGHEST_PROTOCOL)\n",
    "\n",
    "print (\"Time Taken: \", time.time() - tick)"
   ]
  },
  {
   "cell_type": "code",
   "execution_count": 4,
   "metadata": {},
   "outputs": [],
   "source": [
    "# Loading the Dictionary\n",
    "with open('dictionary.pickle', 'rb') as handle:\n",
    "    dictionary = pickle.load(handle)"
   ]
  },
  {
   "cell_type": "code",
   "execution_count": 5,
   "metadata": {},
   "outputs": [
    {
     "name": "stdout",
     "output_type": "stream",
     "text": [
      "[0.1471 0.0849 0.1114 0.2155 0.4411] 10000\n",
      "[-1.91664265 -2.46628119 -2.19462795 -1.53479437 -0.81848367]\n"
     ]
    }
   ],
   "source": [
    "# Computing Phi's\n",
    "Phi = np.zeros(5)\n",
    "\n",
    "totalRatings = 0\n",
    "for data in json_reader(trainset, 10000):\n",
    "    totalRatings += 1\n",
    "    Phi[data['rating'] - 1] += 1\n",
    "    \n",
    "Phi /= totalRatings\n",
    "print (Phi, totalRatings)\n",
    "\n",
    "Phi = np.log(Phi)\n",
    "print (Phi)"
   ]
  },
  {
   "cell_type": "code",
   "execution_count": 6,
   "metadata": {},
   "outputs": [
    {
     "name": "stdout",
     "output_type": "stream",
     "text": [
      "40148\n",
      "[[1.00e+00 1.00e+00 2.00e+00 1.30e+01 3.70e+01]\n",
      " [1.42e+03 8.07e+02 1.00e+03 1.71e+03 2.49e+03]\n",
      " [2.92e+02 1.45e+02 1.47e+02 2.05e+02 3.24e+02]\n",
      " ...\n",
      " [1.00e+00 1.00e+00 2.00e+00 1.00e+00 1.00e+00]\n",
      " [1.00e+00 1.00e+00 2.00e+00 1.00e+00 1.00e+00]\n",
      " [1.00e+00 1.00e+00 2.00e+00 1.00e+00 1.00e+00]]\n",
      "[[272104. 174650. 209314. 321270. 482709.]\n",
      " [272104. 174650. 209314. 321270. 482709.]\n",
      " [272104. 174650. 209314. 321270. 482709.]\n",
      " ...\n",
      " [272104. 174650. 209314. 321270. 482709.]\n",
      " [272104. 174650. 209314. 321270. 482709.]\n",
      " [272104. 174650. 209314. 321270. 482709.]]\n",
      "[[-12.51 -12.07 -11.56 -10.12  -9.48]\n",
      " [ -5.26  -5.38  -5.34  -5.23  -5.27]\n",
      " [ -6.84  -7.09  -7.26  -7.36  -7.31]\n",
      " ...\n",
      " [-12.51 -12.07 -11.56 -12.68 -13.09]\n",
      " [-12.51 -12.07 -11.56 -12.68 -13.09]\n",
      " [-12.51 -12.07 -11.56 -12.68 -13.09]]\n",
      "Time Taken:  18.156128406524658\n"
     ]
    }
   ],
   "source": [
    "# Computing ThetaWK's\n",
    "V = len(dictionary)\n",
    "print (V)\n",
    "\n",
    "tick = time.time()\n",
    "\n",
    "ThetaNum = np.zeros((V, 5)) + 1\n",
    "ThetaDeno = np.zeros((V, 5)) + V \n",
    "\n",
    "def computeFreq (doc, rating):\n",
    "    k = rating - 1\n",
    "    ThetaDeno[:, k] += len(doc)\n",
    "    \n",
    "    for word in doc:\n",
    "        w = dictionary[word]\n",
    "        ThetaNum[w][k] += 1\n",
    "    \n",
    "    return 0\n",
    "    \n",
    "for data in json_reader(trainset, 10000):\n",
    "    computeFreq (data['review'], data['rating'])\n",
    "    \n",
    "Theta = np.log(ThetaNum / ThetaDeno)\n",
    "\n",
    "np.set_printoptions(precision=2)\n",
    "print (ThetaNum)\n",
    "print (ThetaDeno)\n",
    "print (Theta)\n",
    "\n",
    "print (\"Time Taken: \", time.time() - tick)\n"
   ]
  },
  {
   "cell_type": "code",
   "execution_count": 7,
   "metadata": {},
   "outputs": [],
   "source": [
    "# Predictions\n",
    "def predictClass (doc):\n",
    "    probs = np.zeros(5)\n",
    "    for k in range(0, 5):\n",
    "        probs[k] += Phi[k];\n",
    "        for word in doc:\n",
    "            if word not in dictionary:\n",
    "                continue\n",
    "            w = dictionary[word]\n",
    "            probs[k] += Theta[w][k]\n",
    "    return np.argmax(probs) + 1\n",
    "\n",
    "def randomPredictions (doc):\n",
    "    return np.random.randint(1, 6)\n",
    "    \n",
    "    \n",
    "def majorityPrediction (doc):\n",
    "    return 5"
   ]
  },
  {
   "cell_type": "code",
   "execution_count": 8,
   "metadata": {},
   "outputs": [
    {
     "name": "stdout",
     "output_type": "stream",
     "text": [
      "10000\n",
      "Accuracy: 59.76%\n",
      "Time Taken:  25.06342363357544\n"
     ]
    }
   ],
   "source": [
    "# Actual Predictions\n",
    "tick = time.time()\n",
    "\n",
    "correctPredictions = 0\n",
    "totalPredictions = 0\n",
    "for data in json_reader(testset, 10000):\n",
    "    prediction = predictClass (data['review'])\n",
    "    totalPredictions += 1\n",
    "    if (prediction == data['rating']):\n",
    "        correctPredictions += 1\n",
    "    \n",
    "print (totalPredictions)\n",
    "print (\"Accuracy: %.2f%%\" % (correctPredictions * 100 / totalPredictions))\n",
    "print (\"Time Taken: \", time.time() - tick)"
   ]
  },
  {
   "cell_type": "code",
   "execution_count": 9,
   "metadata": {},
   "outputs": [
    {
     "name": "stdout",
     "output_type": "stream",
     "text": [
      "10000\n",
      "Accuracy: 19.21%\n",
      "Time Taken:  15.511351823806763\n"
     ]
    }
   ],
   "source": [
    "# Random Predictions\n",
    "tick = time.time()\n",
    "\n",
    "correctPredictions = 0\n",
    "totalPredictions = 0\n",
    "for data in json_reader(testset, 10000):\n",
    "    prediction = randomPredictions (data['review'])\n",
    "    totalPredictions += 1\n",
    "    if (prediction == data['rating']):\n",
    "        correctPredictions += 1\n",
    "    \n",
    "print (totalPredictions)\n",
    "print (\"Accuracy: %.2f%%\" % (correctPredictions * 100 / totalPredictions))\n",
    "print (\"Time Taken: \", time.time() - tick)"
   ]
  },
  {
   "cell_type": "code",
   "execution_count": 10,
   "metadata": {},
   "outputs": [
    {
     "name": "stdout",
     "output_type": "stream",
     "text": [
      "10000\n",
      "Accuracy: 44.14%\n",
      "Time Taken:  15.402688026428223\n"
     ]
    }
   ],
   "source": [
    "# Majority Predictions\n",
    "tick = time.time()\n",
    "\n",
    "correctPredictions = 0\n",
    "totalPredictions = 0\n",
    "for data in json_reader(testset, 10000):\n",
    "    prediction = majorityPrediction (data['review'])\n",
    "    totalPredictions += 1\n",
    "    if (prediction == data['rating']):\n",
    "        correctPredictions += 1\n",
    "    \n",
    "print (totalPredictions)\n",
    "print (\"Accuracy: %.2f%%\" % (correctPredictions * 100 / totalPredictions))\n",
    "print (\"Time Taken: \", time.time() - tick)"
   ]
  },
  {
   "cell_type": "code",
   "execution_count": null,
   "metadata": {},
   "outputs": [],
   "source": []
  },
  {
   "cell_type": "code",
   "execution_count": 12,
   "metadata": {},
   "outputs": [
    {
     "name": "stdout",
     "output_type": "stream",
     "text": [
      "Time Taken:  26.38666033744812\n",
      "Confusion matrix, without normalization\n",
      "[[1193   21   48  131  135]\n",
      " [ 294   35   88  306  120]\n",
      " [ 146    9   79  639  203]\n",
      " [  84    4   28 1081  942]\n",
      " [ 171    2    6  647 3588]]\n",
      "Normalized confusion matrix\n",
      "[[7.81e-01 1.37e-02 3.14e-02 8.57e-02 8.84e-02]\n",
      " [3.49e-01 4.15e-02 1.04e-01 3.63e-01 1.42e-01]\n",
      " [1.36e-01 8.36e-03 7.34e-02 5.94e-01 1.89e-01]\n",
      " [3.93e-02 1.87e-03 1.31e-02 5.05e-01 4.40e-01]\n",
      " [3.87e-02 4.53e-04 1.36e-03 1.47e-01 8.13e-01]]\n"
     ]
    },
    {
     "data": {
      "image/png": "[encoded data removed]",
      "text/plain": [
       "<Figure size 432x288 with 2 Axes>"
      ]
     },
     "metadata": {
      "needs_background": "light"
     },
     "output_type": "display_data"
    },
    {
     "data": {
      "image/png": "[encoded data removed]",
      "text/plain": [
       "<Figure size 432x288 with 2 Axes>"
      ]
     },
     "metadata": {
      "needs_background": "light"
     },
     "output_type": "display_data"
    }
   ],
   "source": [
    "# Source: https://scikit-learn.org/stable/auto_examples/model_selection/plot_confusion_matrix.html#sphx-glr-auto-examples-model-selection-plot-confusion-matrix-py\n",
    "# Confusion Matrix\n",
    "import matplotlib.pyplot as plt\n",
    "\n",
    "from sklearn import svm, datasets\n",
    "from sklearn.model_selection import train_test_split\n",
    "from sklearn.metrics import confusion_matrix\n",
    "from sklearn.utils.multiclass import unique_labels\n",
    "\n",
    "class_names = np.array(['1', '2', '3', '4', '5'])\n",
    "\n",
    "def plot_confusion_matrix(y_true, y_pred, classes,\n",
    "                          normalize=False,\n",
    "                          title=None,\n",
    "                          cmap=plt.cm.Blues):\n",
    "    \"\"\"\n",
    "    This function prints and plots the confusion matrix.\n",
    "    Normalization can be applied by setting `normalize=True`.\n",
    "    \"\"\"\n",
    "    if not title:\n",
    "        if normalize:\n",
    "            title = 'Normalized confusion matrix'\n",
    "        else:\n",
    "            title = 'Confusion matrix, without normalization'\n",
    "\n",
    "    # Compute confusion matrix\n",
    "    cm = confusion_matrix(y_true, y_pred)\n",
    "    # Only use the labels that appear in the data\n",
    "    classes = classes[unique_labels(y_true, y_pred)]\n",
    "    if normalize:\n",
    "        cm = cm.astype('float') / cm.sum(axis=1)[:, np.newaxis]\n",
    "        print(\"Normalized confusion matrix\")\n",
    "    else:\n",
    "        print('Confusion matrix, without normalization')\n",
    "\n",
    "    print(cm)\n",
    "\n",
    "    fig, ax = plt.subplots()\n",
    "    im = ax.imshow(cm, interpolation='nearest', cmap=cmap)\n",
    "    ax.figure.colorbar(im, ax=ax)\n",
    "    # We want to show all ticks...\n",
    "    ax.set(xticks=np.arange(cm.shape[1]),\n",
    "           yticks=np.arange(cm.shape[0]),\n",
    "           # ... and label them with the respective list entries\n",
    "           xticklabels=classes, yticklabels=classes,\n",
    "           title=title,\n",
    "           ylabel='True label',\n",
    "           xlabel='Predicted label')\n",
    "\n",
    "    # Rotate the tick labels and set their alignment.\n",
    "    plt.setp(ax.get_xticklabels(), rotation=45, ha=\"right\",\n",
    "             rotation_mode=\"anchor\")\n",
    "\n",
    "    # Loop over data dimensions and create text annotations.\n",
    "    fmt = '.2f' if normalize else 'd'\n",
    "    thresh = cm.max() / 2.\n",
    "    for i in range(cm.shape[0]):\n",
    "        for j in range(cm.shape[1]):\n",
    "            ax.text(j, i, format(cm[i, j], fmt),\n",
    "                    ha=\"center\", va=\"center\",\n",
    "                    color=\"white\" if cm[i, j] > thresh else \"black\")\n",
    "    fig.tight_layout()\n",
    "    return ax\n",
    "\n",
    "# Load the training data and predictions\n",
    "tick = time.time()\n",
    "ratings = []\n",
    "predictions = []\n",
    "for data in json_reader(testset, 10000):\n",
    "    prediction = predictClass (data['review'])\n",
    "    ratings.append(data['rating'] - 1)\n",
    "    predictions.append(prediction - 1)\n",
    "ratings = np.array(ratings)\n",
    "predictions = np.array(predictions)\n",
    "print (\"Time Taken: \", time.time() - tick)\n",
    "\n",
    "    # Plot non-normalized confusion matrix\n",
    "plot_confusion_matrix(ratings, predictions, classes=class_names,\n",
    "                      title='Confusion matrix, without normalization')\n",
    "\n",
    "# Plot normalized confusion matrix\n",
    "plot_confusion_matrix(ratings, predictions, classes=class_names, normalize=True,\n",
    "                      title='Normalized confusion matrix')\n",
    "\n",
    "plt.show()\n"
   ]
  },
  {
   "cell_type": "code",
   "execution_count": null,
   "metadata": {},
   "outputs": [],
   "source": []
  },
  {
   "cell_type": "code",
   "execution_count": null,
   "metadata": {},
   "outputs": [],
   "source": []
  },
  {
   "cell_type": "code",
   "execution_count": null,
   "metadata": {},
   "outputs": [],
   "source": []
  }
 ],
 "metadata": {
  "kernelspec": {
   "display_name": "Python 3",
   "language": "python",
   "name": "python3"
  },
  "language_info": {
   "codemirror_mode": {
    "name": "ipython",
    "version": 3
   },
   "file_extension": ".py",
   "mimetype": "text/x-python",
   "name": "python",
   "nbconvert_exporter": "python",
   "pygments_lexer": "ipython3",
   "version": "3.7.1"
  }
 },
 "nbformat": 4,
 "nbformat_minor": 2
}
