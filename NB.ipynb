{
 "cells": [
  {
   "cell_type": "code",
   "execution_count": 1,
   "metadata": {},
   "outputs": [
    {
     "name": "stderr",
     "output_type": "stream",
     "text": [
      "[nltk_data] Downloading package punkt to\n",
      "[nltk_data]     /home/arpanmangal/nltk_data...\n",
      "[nltk_data]   Package punkt is already up-to-date!\n"
     ]
    }
   ],
   "source": [
    "import nltk\n",
    "nltk.download('punkt')\n",
    "from nltk.tokenize import word_tokenize"
   ]
  },
  {
   "cell_type": "code",
   "execution_count": 2,
   "metadata": {},
   "outputs": [],
   "source": [
    "import sys\n",
    "import json\n",
    "import time\n",
    "import pickle\n",
    "import numpy as np\n",
    "import json\n",
    "\n",
    "def json_reader(fname):\n",
    "    \"\"\"\n",
    "        Read multiple json files\n",
    "        Args:\n",
    "            fname: str: input file\n",
    "        Returns:\n",
    "            generator: iterator over documents \n",
    "    \"\"\"\n",
    "    count = 0\n",
    "    for line in open(fname, mode=\"r\"):\n",
    "        if (count > 100000):\n",
    "            break\n",
    "        count += 1\n",
    "        \n",
    "        data = json.loads(line)\n",
    "        rating = int(data['stars'])\n",
    "        review = np.array(word_tokenize(data['text']))\n",
    "        yield {'rating': rating, 'review': review}\n",
    "        "
   ]
  },
  {
   "cell_type": "code",
   "execution_count": 3,
   "metadata": {},
   "outputs": [],
   "source": [
    "trainset = './dataset/NB/test.json'"
   ]
  },
  {
   "cell_type": "code",
   "execution_count": 4,
   "metadata": {},
   "outputs": [
    {
     "name": "stdout",
     "output_type": "stream",
     "text": [
      "143206\n",
      "Time Taken:  173.86873245239258\n"
     ]
    }
   ],
   "source": [
    "# Making of the dictionary\n",
    "\n",
    "tick = time.time()\n",
    "dictionary = {}\n",
    "for data in json_reader(trainset):\n",
    "    for word in data['review']:\n",
    "        dictionary[word] = 0\n",
    "        \n",
    "dictionary = { word : idx for idx, word in enumerate(dictionary)}\n",
    "print (len(dictionary))\n",
    "\n",
    "print (\"Time Taken: \", time.time() - tick)"
   ]
  },
  {
   "cell_type": "code",
   "execution_count": 5,
   "metadata": {},
   "outputs": [
    {
     "name": "stdout",
     "output_type": "stream",
     "text": [
      "[0.15221848 0.08171918 0.10862891 0.21806782 0.43936561] 100001\n",
      "[-1.88243844 -2.50446651 -2.21981767 -1.52294917 -0.8224234 ]\n"
     ]
    }
   ],
   "source": [
    "# Computing Phi's\n",
    "Phi = np.zeros(5)\n",
    "\n",
    "totalRatings = 0\n",
    "for data in json_reader(trainset):\n",
    "    totalRatings += 1\n",
    "    Phi[data['rating'] - 1] += 1\n",
    "    \n",
    "Phi /= totalRatings\n",
    "print (Phi, totalRatings)\n",
    "\n",
    "Phi = np.log(Phi)\n",
    "print (Phi)"
   ]
  },
  {
   "cell_type": "code",
   "execution_count": 6,
   "metadata": {},
   "outputs": [
    {
     "name": "stdout",
     "output_type": "stream",
     "text": [
      "143206\n",
      "[[4.10e+01 4.20e+01 5.90e+01 1.17e+02 1.95e+02]\n",
      " [5.36e+03 3.26e+03 4.58e+03 9.03e+03 1.41e+04]\n",
      " [9.27e+02 3.45e+02 2.76e+02 5.00e+02 1.22e+03]\n",
      " ...\n",
      " [1.00e+00 2.00e+00 1.00e+00 1.00e+00 1.00e+00]\n",
      " [1.00e+00 2.00e+00 1.00e+00 1.00e+00 1.00e+00]\n",
      " [1.00e+00 1.00e+00 1.00e+00 2.00e+00 1.00e+00]]\n",
      "[[2611316. 1469889. 1792062. 3023462. 4555988.]\n",
      " [2611316. 1469889. 1792062. 3023462. 4555988.]\n",
      " [2611316. 1469889. 1792062. 3023462. 4555988.]\n",
      " ...\n",
      " [2611316. 1469889. 1792062. 3023462. 4555988.]\n",
      " [2611316. 1469889. 1792062. 3023462. 4555988.]\n",
      " [2611316. 1469889. 1792062. 3023462. 4555988.]]\n",
      "[[-11.06 -10.46 -10.32 -10.16 -10.06]\n",
      " [ -6.19  -6.11  -5.97  -5.81  -5.78]\n",
      " [ -7.94  -8.36  -8.78  -8.71  -8.23]\n",
      " ...\n",
      " [-14.78 -13.51 -14.4  -14.92 -15.33]\n",
      " [-14.78 -13.51 -14.4  -14.92 -15.33]\n",
      " [-14.78 -14.2  -14.4  -14.23 -15.33]]\n",
      "Time Taken:  283.6357834339142\n"
     ]
    }
   ],
   "source": [
    "# Computing ThetaWK's\n",
    "V = len(dictionary)\n",
    "print (V)\n",
    "\n",
    "tick = time.time()\n",
    "\n",
    "ThetaNum = np.zeros((V, 5)) + 1\n",
    "ThetaDeno = np.zeros((V, 5)) + V \n",
    "\n",
    "def computeFreq (doc, rating):\n",
    "    k = rating - 1\n",
    "    ThetaDeno[:, k] += len(doc)\n",
    "    \n",
    "    for word in doc:\n",
    "        w = dictionary[word]\n",
    "        ThetaNum[w][k] += 1\n",
    "    \n",
    "    return 0\n",
    "    \n",
    "for data in json_reader(trainset):\n",
    "    computeFreq (data['review'], data['rating'])\n",
    "    \n",
    "Theta = np.log(ThetaNum / ThetaDeno)\n",
    "\n",
    "np.set_printoptions(precision=2)\n",
    "print (ThetaNum)\n",
    "print (ThetaDeno)\n",
    "print (Theta)\n",
    "\n",
    "print (\"Time Taken: \", time.time() - tick)\n"
   ]
  },
  {
   "cell_type": "code",
   "execution_count": 7,
   "metadata": {},
   "outputs": [
    {
     "name": "stdout",
     "output_type": "stream",
     "text": [
      "100001\n",
      "Accuracy: 70.16%\n",
      "Time Taken:  263.9955232143402\n"
     ]
    }
   ],
   "source": [
    "# Predictions\n",
    "def predictClass (doc):\n",
    "    probs = np.zeros(5)\n",
    "    for k in range(0, 5):\n",
    "        probs[k] += Phi[k];\n",
    "        for word in doc:\n",
    "            w = dictionary[word]\n",
    "            probs[k] += Theta[w][k]\n",
    "#     print (probs)\n",
    "    return np.argmax(probs) + 1\n",
    "\n",
    "tick = time.time()\n",
    "\n",
    "correctPredictions = 0\n",
    "totalPredictions = 0\n",
    "for data in json_reader(trainset):\n",
    "    prediction = predictClass (data['review'])\n",
    "#     print (prediction, end=' ')\n",
    "    totalPredictions += 1\n",
    "    if (prediction == data['rating']):\n",
    "        correctPredictions += 1\n",
    "    \n",
    "print (totalPredictions)\n",
    "print (\"Accuracy: %.2f%%\" % (correctPredictions * 100 / totalPredictions))\n",
    "print (\"Time Taken: \", time.time() - tick)"
   ]
  },
  {
   "cell_type": "code",
   "execution_count": null,
   "metadata": {},
   "outputs": [],
   "source": []
  }
 ],
 "metadata": {
  "kernelspec": {
   "display_name": "Python 3",
   "language": "python",
   "name": "python3"
  },
  "language_info": {
   "codemirror_mode": {
    "name": "ipython",
    "version": 3
   },
   "file_extension": ".py",
   "mimetype": "text/x-python",
   "name": "python",
   "nbconvert_exporter": "python",
   "pygments_lexer": "ipython3",
   "version": "3.7.1"
  }
 },
 "nbformat": 4,
 "nbformat_minor": 2
}
