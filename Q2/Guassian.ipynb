{
 "cells": [
  {
   "cell_type": "code",
   "execution_count": 1,
   "metadata": {},
   "outputs": [],
   "source": [
    "import numpy as np\n",
    "import json\n",
    "import sys\n",
    "import pickle\n",
    "import time\n",
    "import cvxopt as cvx\n",
    "# from cvxopt import matrix, solvers"
   ]
  },
  {
   "cell_type": "code",
   "execution_count": 2,
   "metadata": {},
   "outputs": [
    {
     "name": "stdout",
     "output_type": "stream",
     "text": [
      "(4000, 784) (4000,) (2042, 784) (2042,)\n"
     ]
    }
   ],
   "source": [
    "def read_data (datafile=\"../dataset/SVM/train.csv\", entryno=2):\n",
    "    lines = np.array([(line.rstrip('\\n')).split(',') for line in open(datafile)], dtype=np.int64)\n",
    "    lines = lines[ (lines[:,-1] == entryno) | (lines[:,-1] == entryno+1) ]\n",
    "    np.random.seed(0) # Deterministically random\n",
    "    np.random.shuffle(lines)\n",
    "#     print (lines[:10])\n",
    "#     lines = lines[:200,:]\n",
    "    X = lines[:,:-1] / 255.0\n",
    "    Y = lines[:,-1] * 2 - 5 # for having y = {-1, 1}\n",
    "    \n",
    "#     print (X.shape, X)\n",
    "#     np.set_printoptions(threshold=np.nan)\n",
    "#     print (Y.shape, Y)\n",
    "#     print (lines.shape, lines)\n",
    "#     print (np.max(X[0]), np.min(X[0]))\n",
    "\n",
    "    return X, Y\n",
    "    \n",
    "X, Y = read_data('../dataset/SVM/train.csv')\n",
    "testX, testY = read_data('../dataset/SVM/test.csv')\n",
    "print (X.shape, Y.shape, testX.shape, testY.shape)"
   ]
  },
  {
   "cell_type": "code",
   "execution_count": null,
   "metadata": {},
   "outputs": [],
   "source": []
  },
  {
   "cell_type": "code",
   "execution_count": 3,
   "metadata": {},
   "outputs": [],
   "source": [
    "# LibSVM\n",
    "from libsvm.python.svmutil import *\n",
    "\n",
    "# prob = svm_problem(Y, X)\n",
    "\n",
    "# param = svm_parameter()\n",
    "# param.kernel_type = LINEAR\n",
    "# param.C = 1\n",
    "\n",
    "# m=svm_train(prob, param)\n",
    "\n",
    "# correct = 0\n",
    "# svm_predict(Y, X, m)[0]\n",
    "# result = testY == svm_predict(testY, testX, m)[0]\n",
    "# np.sum(result)"
   ]
  },
  {
   "cell_type": "code",
   "execution_count": null,
   "metadata": {},
   "outputs": [],
   "source": []
  },
  {
   "cell_type": "code",
   "execution_count": null,
   "metadata": {},
   "outputs": [],
   "source": []
  },
  {
   "cell_type": "code",
   "execution_count": 4,
   "metadata": {},
   "outputs": [
    {
     "name": "stdout",
     "output_type": "stream",
     "text": [
      "(4000, 784) (4000, 1) 4000 784\n"
     ]
    }
   ],
   "source": [
    "# Finding the SVM alphas\n",
    "X = np.matrix(X)\n",
    "Y = np.matrix(Y).T\n",
    "\n",
    "m, n = X.shape\n",
    "print (X.shape, Y.shape, m, n)"
   ]
  },
  {
   "cell_type": "code",
   "execution_count": 5,
   "metadata": {},
   "outputs": [],
   "source": [
    "# def gaussianB (X):\n",
    "#     X = np.matrix(X)\n",
    "#     m, n = X.shape\n",
    "#     XtX = np.multiply(X, X)\n",
    "#     XtX = np.sum(XtX, axis=1).reshape(m,1)\n",
    "#     XtX = np.repeat(XtX, m, axis=1)\n",
    "# #     print (XtX)\n",
    "#     print ((X*X.T).shape)\n",
    "#     return XtX + XtX.T - 2*X*X.T\n",
    "\n",
    "# def gaussianM (X):\n",
    "#     XB = gaussianB(X)\n",
    "#     gamma = 0.05\n",
    "#     return np.exp ( -gamma * XB)\n",
    "    \n",
    "# M = gaussianM(X)\n",
    "        \n",
    "# print (M)"
   ]
  },
  {
   "cell_type": "code",
   "execution_count": 6,
   "metadata": {},
   "outputs": [],
   "source": [
    "def gaussianB (X):\n",
    "    X = np.matrix(X)\n",
    "    m, n = X.shape\n",
    "    XXt = X * X.T\n",
    "    D = np.diag(XXt).reshape(m, 1)\n",
    "    D1 = np.matrix(np.repeat(D, m, axis=1))\n",
    "    D2 = D1.T\n",
    "#     print (XXt, D, D1, D2)\n",
    "    return D1 + D2 - 2 * XXt\n",
    "    \n",
    "    \n",
    "    \n",
    "#     m, n = X.shape\n",
    "#     XtX = np.multiply(X, X)\n",
    "#     XtX = np.sum(XtX, axis=1).reshape(m,1)\n",
    "#     XtX = np.repeat(XtX, m, axis=1)\n",
    "# #     print (XtX)\n",
    "#     print ((X*X.T).shape)\n",
    "#     return XtX + XtX.T - 2*X*X.T\n",
    "\n",
    "def gaussianM (X):\n",
    "    XB = gaussianB(X)\n",
    "    gamma = 0.05\n",
    "    return np.exp ( -gamma * XB)\n",
    "    \n",
    "M = gaussianM(X)\n",
    "# HI = [[1,2,3,4],[4,5,6,7],[6,8,8,10]]   \n",
    "# gaussianM (X)\n",
    "# print (M)"
   ]
  },
  {
   "cell_type": "code",
   "execution_count": 7,
   "metadata": {},
   "outputs": [
    {
     "name": "stdout",
     "output_type": "stream",
     "text": [
      "[[ 1  1  1 ... -1  1 -1]\n",
      " [ 1  1  1 ... -1  1 -1]\n",
      " [ 1  1  1 ... -1  1 -1]\n",
      " ...\n",
      " [-1 -1 -1 ...  1 -1  1]\n",
      " [ 1  1  1 ... -1  1 -1]\n",
      " [-1 -1 -1 ...  1 -1  1]] (4000, 4000)\n",
      "[[ 1.          0.00535561  0.00327795 ... -0.00578413  0.02642193\n",
      "  -0.00182654]\n",
      " [ 0.00535561  1.          0.00262373 ... -0.00652064  0.04797889\n",
      "  -0.00650381]\n",
      " [ 0.00327795  0.00262373  1.         ... -0.00788445  0.00323678\n",
      "  -0.01077801]\n",
      " ...\n",
      " [-0.00578413 -0.00652064 -0.00788445 ...  1.         -0.01322943\n",
      "   0.08776532]\n",
      " [ 0.02642193  0.04797889  0.00323678 ... -0.01322943  1.\n",
      "  -0.00994946]\n",
      " [-0.00182654 -0.00650381 -0.01077801 ...  0.08776532 -0.00994946\n",
      "   1.        ]] (4000, 4000)\n"
     ]
    }
   ],
   "source": [
    "mQ = Y * Y.T\n",
    "print (mQ, mQ.shape)\n",
    "# mQ = np.dot (mQ, M)\n",
    "# print (mQ, mQ.shape)\n",
    "mQ = np.multiply (mQ, M)\n",
    "print (mQ, mQ.shape)\n",
    "# for i in range (0, m):\n",
    "#     for j in range (0, m):\n",
    "#         Q[i][j] = "
   ]
  },
  {
   "cell_type": "code",
   "execution_count": null,
   "metadata": {},
   "outputs": [],
   "source": []
  },
  {
   "cell_type": "code",
   "execution_count": 8,
   "metadata": {},
   "outputs": [
    {
     "name": "stdout",
     "output_type": "stream",
     "text": [
      "(4000, 4000) (4000, 1) (8000, 4000) (8000, 1) (1, 4000) 0\n"
     ]
    }
   ],
   "source": [
    "Q = mQ\n",
    "\n",
    "p = np.matrix(-np.ones((m, 1)))\n",
    "\n",
    "G = np.matrix(np.vstack( (-np.identity(m), np.identity(m)) ))\n",
    "h = np.matrix(np.vstack( (np.zeros((m,1)), np.ones((m,1))) ))\n",
    "\n",
    "A = Y.T\n",
    "b = 0\n",
    "\n",
    "print (Q.shape, p.shape, G.shape, h.shape, A.shape, b)\n",
    "# print (Q, p, G, h, A, b)"
   ]
  },
  {
   "cell_type": "code",
   "execution_count": 9,
   "metadata": {},
   "outputs": [
    {
     "name": "stdout",
     "output_type": "stream",
     "text": [
      "[-1.00e+00 -1.00e+00 -1.00e+00 -1.00e+00 -1.00e+00  1.00e+00 -1.00e+00 ... ]\n",
      " (1, 4000)\n",
      "     pcost       dcost       gap    pres   dres\n",
      " 0: -2.5038e+02 -6.1151e+03  2e+04  2e+00  2e-15\n",
      " 1: -1.6695e+02 -3.1888e+03  4e+03  2e-01  1e-15\n",
      " 2: -2.1251e+02 -6.4884e+02  5e+02  1e-02  3e-15\n",
      " 3: -2.6732e+02 -3.6833e+02  1e+02  2e-03  2e-15\n",
      " 4: -2.8330e+02 -3.0848e+02  3e+01  3e-04  1e-15\n",
      " 5: -2.8872e+02 -2.9361e+02  5e+00  4e-05  1e-15\n",
      " 6: -2.9011e+02 -2.9076e+02  7e-01  4e-06  1e-15\n",
      " 7: -2.9034e+02 -2.9037e+02  4e-02  1e-07  1e-15\n",
      " 8: -2.9035e+02 -2.9035e+02  1e-03  3e-09  1e-15\n",
      " 9: -2.9035e+02 -2.9035e+02  3e-05  3e-11  1e-15\n",
      "Optimal solution found.\n"
     ]
    }
   ],
   "source": [
    "Q = cvx.matrix(Q)\n",
    "p = cvx.matrix(p)\n",
    "G = cvx.matrix(G)\n",
    "h = cvx.matrix(h)\n",
    "A = cvx.matrix(A, (1, m), 'd')\n",
    "print (A, np.array(A).shape)\n",
    "b = cvx.matrix(b, (1,1), 'd')\n",
    "\n",
    "sol = cvx.solvers.qp(P=Q, q=p, G=G, h=h, A=A, b=b)"
   ]
  },
  {
   "cell_type": "code",
   "execution_count": 10,
   "metadata": {},
   "outputs": [
    {
     "name": "stdout",
     "output_type": "stream",
     "text": [
      "<class 'numpy.matrixlib.defmatrix.matrix'> (4000, 1) (4000, 1)\n"
     ]
    }
   ],
   "source": [
    "alphas = np.matrix(sol['x'])\n",
    "print (type(alphas), alphas.shape, Y.shape)\n",
    "# print (alphas)"
   ]
  },
  {
   "cell_type": "code",
   "execution_count": 11,
   "metadata": {},
   "outputs": [
    {
     "name": "stdout",
     "output_type": "stream",
     "text": [
      "(4000, 784) (4000, 1) (2042, 784) (1, 2042)\n"
     ]
    }
   ],
   "source": [
    "testX = np.matrix(testX)\n",
    "testY = np.matrix(testY)\n",
    "print (X.shape, Y.shape, testX.shape, testY.shape)"
   ]
  },
  {
   "cell_type": "code",
   "execution_count": 12,
   "metadata": {},
   "outputs": [
    {
     "name": "stdout",
     "output_type": "stream",
     "text": [
      "(4000, 1)\n",
      "(4000, 2042)\n"
     ]
    }
   ],
   "source": [
    "p, n = testX.shape\n",
    "\n",
    "AlphaY = np.multiply (alphas, Y)\n",
    "print (AlphaY.shape)\n",
    "AlphaY = np.repeat(AlphaY, p, axis=1)\n",
    "print (AlphaY.shape)"
   ]
  },
  {
   "cell_type": "code",
   "execution_count": 13,
   "metadata": {},
   "outputs": [
    {
     "name": "stdout",
     "output_type": "stream",
     "text": [
      "(4000, 784) (2042, 784)\n",
      "(4000, 2042) (4000, 2042) (4000, 2042)\n"
     ]
    }
   ],
   "source": [
    "def gaussianB (X, P):\n",
    "    X = np.matrix(X)\n",
    "    P = np.matrix(P)\n",
    "    m, n = X.shape\n",
    "    p, n = P.shape\n",
    "    print (X.shape, P.shape)\n",
    "    \n",
    "    XPt = X * P.T\n",
    "    D1 = np.diag(X * X.T).reshape(m, 1)\n",
    "    D1 = np.matrix(np.repeat(D1, p, axis=1))\n",
    "    D2 = np.diag(P * P.T).reshape(p, 1)\n",
    "    D2 = np.matrix(np.repeat(D2, m, axis=1))\n",
    "    D2 = D2.T\n",
    "    \n",
    "    print (D1.shape, D2.shape, XPt.shape)\n",
    "    return D1 + D2 - 2 * XPt\n",
    "    \n",
    "    XXt = X * X.T\n",
    "    D = np.diag(XXt).reshape(m, 1)\n",
    "    D1 = np.matrix(np.repeat(D, m, axis=1))\n",
    "    D2 = D1.T\n",
    "#     print (XXt, D, D1, D2)\n",
    "    return D1 + D2 - 2 * XXt\n",
    "    \n",
    "\n",
    "def gaussianM (X, P):\n",
    "    XB = gaussianB(X, P)\n",
    "    gamma = 0.05\n",
    "    return np.exp ( -gamma * XB)\n",
    "\n",
    "KM = gaussianM (X, testX)"
   ]
  },
  {
   "cell_type": "code",
   "execution_count": 14,
   "metadata": {},
   "outputs": [],
   "source": [
    "# epsilon = 1e-5\n",
    "# for idx, alp in enumerate(alphas):\n",
    "#     if (alp - 0 > epsilon and 1 - alp > epsilon):\n",
    "#         print (alp, idx)\n",
    "#         testX = testX[idx]\n",
    "#         KM = gaussianM (X, testX)\n",
    "#         AlphaY = np.multiply (alphas, Y)\n",
    "#         print (AlphaY.shape)\n",
    "#         AlphaY = np.repeat(AlphaY, 1, axis=1)\n",
    "#         print (AlphaY.shape)\n",
    "#         KMalphaY = np.multiply (KM, AlphaY)\n",
    "#         KMalphaY = np.sum(KMalphaY, axis=0)\n",
    "#         print (KMalphaY.shape, KMalphaY)\n",
    "\n",
    "#         correct = np.multiply(KMalphaY, testY) > 0\n",
    "        \n",
    "#         print (testX.shape)\n",
    "# #         print (testY[0, idx], KMalphaY)\n",
    "# #         break\n",
    "#         b = float (testY[0, idx] - KMalphaY)\n",
    "#         break\n",
    "#         y = float (Y[idx])\n",
    "        \n",
    "#         w = np.matrix(W)\n",
    "#         x = np.matrix(X[idx, :]).T\n",
    "#         b = float (y - w*x)\n",
    "#         print (y, w.shape, x.shape, b)\n",
    "#         break\n",
    "# print (b)"
   ]
  },
  {
   "cell_type": "code",
   "execution_count": 15,
   "metadata": {},
   "outputs": [
    {
     "name": "stdout",
     "output_type": "stream",
     "text": [
      "(4000, 2042)\n",
      "(4000, 2042)\n",
      "(1, 2042) (1, 2042) [[2.74925648 2.98850562 2.38238369 ... 3.20057056 3.44911458 0.39226665]] [[ 1  1  1 ...  1  1 -1]]\n",
      "[[ True  True  True ...  True  True False]]\n",
      "1014\n",
      "Accuracy:  0.49657198824681686 1\n"
     ]
    }
   ],
   "source": [
    "b = 1.4318501661556025\n",
    "print (KM.shape)\n",
    "KMalphaY = np.multiply (KM, AlphaY)\n",
    "print (KMalphaY.shape)\n",
    "KMalphaY = np.sum(KMalphaY, axis=0) + b\n",
    "print (KMalphaY.shape, testY.shape, KMalphaY, testY)\n",
    "\n",
    "correct = np.multiply(KMalphaY, testY) > 0\n",
    "print (correct)\n",
    "print (np.sum(correct))\n",
    "acc = float(np.sum(correct, axis=1)) / len(testY.T)\n",
    "print (\"Accuracy: \", acc, len(testY))"
   ]
  },
  {
   "cell_type": "code",
   "execution_count": 16,
   "metadata": {},
   "outputs": [],
   "source": [
    "# def getWtX (x):\n",
    "# #     print (alphas.shape, Y.shape, X.shape, x.shape)\n",
    "#     WtX = X - x\n",
    "#     WtX = np.multiply(WtX, WtX)\n",
    "#     WtX = np.sum(WtX, axis=1)\n",
    "# #     print (WtX.shape)\n",
    "\n",
    "#     WtX = np.multiply(WtX, Y)\n",
    "#     WtX = np.multiply(WtX, alphas)\n",
    "#     WtX = np.sum(WtX, axis=0)\n",
    "    \n",
    "#     return float(WtX)"
   ]
  },
  {
   "cell_type": "code",
   "execution_count": 17,
   "metadata": {},
   "outputs": [],
   "source": [
    "# epsilon = 1e-5\n",
    "# print (alphas)\n",
    "# for idx, alp in enumerate(alphas):\n",
    "#     alp = float(alp)\n",
    "#     if (alp - 0 > epsilon and 1 - alp > epsilon):\n",
    "#         y = float (Y[idx])\n",
    "#         x = np.matrix(X[idx, :])\n",
    "# #         print (X, x, X -x)\n",
    "#         print (X.shape, x.shape, (X-x).shape)\n",
    "#         b = 1 - getWtX (x)\n",
    "#         break\n",
    "#         print (alp)\n",
    "#         w = np.matrix(W)\n",
    "#         x = np.matrix(X[idx, :]).T\n",
    "#         b = float (y - w*x)\n",
    "#         print (y, w.shape, x.shape, b)\n",
    "#         break\n",
    "# print (b)"
   ]
  },
  {
   "cell_type": "code",
   "execution_count": 18,
   "metadata": {},
   "outputs": [
    {
     "ename": "NameError",
     "evalue": "name 'getWtX' is not defined",
     "output_type": "error",
     "traceback": [
      "\u001b[0;31m---------------------------------------------------------------------------\u001b[0m",
      "\u001b[0;31mNameError\u001b[0m                                 Traceback (most recent call last)",
      "\u001b[0;32m<ipython-input-18-25df54bf7437>\u001b[0m in \u001b[0;36m<module>\u001b[0;34m\u001b[0m\n\u001b[1;32m      1\u001b[0m \u001b[0mcorrect\u001b[0m \u001b[0;34m=\u001b[0m \u001b[0;36m0\u001b[0m\u001b[0;34m\u001b[0m\u001b[0;34m\u001b[0m\u001b[0m\n\u001b[1;32m      2\u001b[0m \u001b[0;32mfor\u001b[0m \u001b[0my\u001b[0m\u001b[0;34m,\u001b[0m \u001b[0mx\u001b[0m \u001b[0;32min\u001b[0m \u001b[0mzip\u001b[0m \u001b[0;34m(\u001b[0m\u001b[0mY\u001b[0m\u001b[0;34m,\u001b[0m \u001b[0mX\u001b[0m\u001b[0;34m)\u001b[0m\u001b[0;34m:\u001b[0m\u001b[0;34m\u001b[0m\u001b[0;34m\u001b[0m\u001b[0m\n\u001b[0;32m----> 3\u001b[0;31m     \u001b[0mpred\u001b[0m \u001b[0;34m=\u001b[0m \u001b[0mgetWtX\u001b[0m \u001b[0;34m(\u001b[0m\u001b[0mx\u001b[0m\u001b[0;34m)\u001b[0m \u001b[0;34m+\u001b[0m \u001b[0mb\u001b[0m\u001b[0;34m\u001b[0m\u001b[0;34m\u001b[0m\u001b[0m\n\u001b[0m\u001b[1;32m      4\u001b[0m     \u001b[0;32mif\u001b[0m \u001b[0;34m(\u001b[0m\u001b[0my\u001b[0m \u001b[0;34m*\u001b[0m \u001b[0mpred\u001b[0m \u001b[0;34m>\u001b[0m \u001b[0;36m0\u001b[0m\u001b[0;34m)\u001b[0m\u001b[0;34m:\u001b[0m\u001b[0;34m\u001b[0m\u001b[0;34m\u001b[0m\u001b[0m\n\u001b[1;32m      5\u001b[0m         \u001b[0mcorrect\u001b[0m \u001b[0;34m+=\u001b[0m \u001b[0;36m1\u001b[0m\u001b[0;34m\u001b[0m\u001b[0;34m\u001b[0m\u001b[0m\n",
      "\u001b[0;31mNameError\u001b[0m: name 'getWtX' is not defined"
     ]
    }
   ],
   "source": [
    "correct = 0\n",
    "for y, x in zip (Y, X):\n",
    "    pred = getWtX (x) + b\n",
    "    if (y * pred > 0):\n",
    "        correct += 1\n",
    "print (\"Accuracy: \", correct / len(Y))"
   ]
  },
  {
   "cell_type": "code",
   "execution_count": null,
   "metadata": {},
   "outputs": [],
   "source": [
    "# alphas = alphas[:,0]\n",
    "# print (alphas)"
   ]
  },
  {
   "cell_type": "code",
   "execution_count": null,
   "metadata": {},
   "outputs": [],
   "source": [
    "epsilon = 1e-5\n",
    "sv = []\n",
    "for idx, alp in enumerate(alphas):\n",
    "    if (alp - 0 > epsilon and 1 - alp > epsilon):\n",
    "#         print (alp, idx)\n",
    "        sv.append(alp)\n",
    "print (len(sv))"
   ]
  },
  {
   "cell_type": "code",
   "execution_count": null,
   "metadata": {},
   "outputs": [],
   "source": [
    "print ()"
   ]
  },
  {
   "cell_type": "code",
   "execution_count": null,
   "metadata": {},
   "outputs": [],
   "source": []
  },
  {
   "cell_type": "code",
   "execution_count": null,
   "metadata": {},
   "outputs": [],
   "source": []
  },
  {
   "cell_type": "code",
   "execution_count": null,
   "metadata": {},
   "outputs": [],
   "source": []
  },
  {
   "cell_type": "code",
   "execution_count": null,
   "metadata": {},
   "outputs": [],
   "source": [
    "A = np.matrix ([[1,2,3],[4,5,6]])\n",
    "B = np.matrix ([[2],[3]])\n",
    "print (A, B)\n",
    "C = np.multiply(A, B)\n",
    "C = np.multiply(C, B)\n",
    "print (C)"
   ]
  },
  {
   "cell_type": "code",
   "execution_count": null,
   "metadata": {},
   "outputs": [],
   "source": [
    "print (Y.shape, X.shape, alphas.shape)"
   ]
  },
  {
   "cell_type": "code",
   "execution_count": null,
   "metadata": {},
   "outputs": [],
   "source": [
    "W = np.multiply(X, Y)\n",
    "W = np.multiply(W, alphas)\n",
    "print (W.shape, W)"
   ]
  },
  {
   "cell_type": "code",
   "execution_count": null,
   "metadata": {},
   "outputs": [],
   "source": [
    "W = W.sum(axis=0)\n",
    "print (W.shape, W)"
   ]
  },
  {
   "cell_type": "code",
   "execution_count": null,
   "metadata": {},
   "outputs": [],
   "source": [
    "W = np.array(W)[0, :]\n",
    "print (W.shape, W)"
   ]
  },
  {
   "cell_type": "code",
   "execution_count": null,
   "metadata": {},
   "outputs": [],
   "source": [
    "print (np.sum(W))"
   ]
  },
  {
   "cell_type": "code",
   "execution_count": null,
   "metadata": {},
   "outputs": [],
   "source": [
    "epsilon = 1e-5\n",
    "for idx, alp in enumerate(alphas):\n",
    "    if (alp - 0 > epsilon and 1 - alp > epsilon):\n",
    "        print (alp)\n",
    "        y = float (Y[idx])\n",
    "        w = np.matrix(W)\n",
    "        x = np.matrix(X[idx, :]).T\n",
    "        b = float (y - w*x)\n",
    "        print (y, w.shape, x.shape, b)\n",
    "        break\n",
    "print (b)"
   ]
  },
  {
   "cell_type": "code",
   "execution_count": null,
   "metadata": {},
   "outputs": [],
   "source": [
    "W = np.matrix(W).T\n",
    "print (W.shape, b, X.shape)"
   ]
  },
  {
   "cell_type": "code",
   "execution_count": null,
   "metadata": {},
   "outputs": [],
   "source": [
    "pred = X*W\n",
    "pred = np.array(pred)[:,0]\n",
    "print (pred.shape, pred)"
   ]
  },
  {
   "cell_type": "code",
   "execution_count": null,
   "metadata": {},
   "outputs": [],
   "source": [
    "values = np.sign(pred)\n",
    "print (values)"
   ]
  },
  {
   "cell_type": "code",
   "execution_count": null,
   "metadata": {},
   "outputs": [],
   "source": [
    "# Y = np.array(Y)[:,0]\n",
    "print (Y)\n",
    "accuracy = np.sum(values == Y) / len(Y)\n",
    "print (accuracy)"
   ]
  }
 ],
 "metadata": {
  "kernelspec": {
   "display_name": "Python 3",
   "language": "python",
   "name": "python3"
  },
  "language_info": {
   "codemirror_mode": {
    "name": "ipython",
    "version": 3
   },
   "file_extension": ".py",
   "mimetype": "text/x-python",
   "name": "python",
   "nbconvert_exporter": "python",
   "pygments_lexer": "ipython3",
   "version": "3.7.1"
  }
 },
 "nbformat": 4,
 "nbformat_minor": 2
}
