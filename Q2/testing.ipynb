{
 "cells": [
  {
   "cell_type": "code",
   "execution_count": 7,
   "metadata": {},
   "outputs": [],
   "source": [
    "# from python.svm import *\n",
    "from libsvm.python.svmutil import *"
   ]
  },
  {
   "cell_type": "code",
   "execution_count": 8,
   "metadata": {},
   "outputs": [],
   "source": [
    "y, x = [1,-1], [[1,0,1], [-1,0,-1]]\n",
    "prob  = svm_problem(y, x)\n",
    "param = svm_parameter('-t 0 -c 4 -b 1')\n",
    "m = svm_train(prob, param)"
   ]
  },
  {
   "cell_type": "code",
   "execution_count": null,
   "metadata": {},
   "outputs": [],
   "source": []
  },
  {
   "cell_type": "code",
   "execution_count": 7,
   "metadata": {},
   "outputs": [
    {
     "name": "stdout",
     "output_type": "stream",
     "text": [
      "[[ 1  4  9]\n",
      " [16 25 36]]\n",
      "[[14]\n",
      " [77]] [[1, 2, 3], [4, 5, 6]]\n",
      "[[15 16 17]\n",
      " [81 82 83]]\n"
     ]
    }
   ],
   "source": [
    "import numpy as np\n",
    "\n",
    "X = [[1,2,3], [4,5,6]]\n",
    "\n",
    "XtX = np.multiply(X, X)\n",
    "print (XtX)\n",
    "XtX = np.sum(XtX, axis=1).reshape(2,1)\n",
    "print (XtX, X)\n",
    "\n",
    "print (X + XtX)"
   ]
  },
  {
   "cell_type": "code",
   "execution_count": 14,
   "metadata": {},
   "outputs": [
    {
     "name": "stdout",
     "output_type": "stream",
     "text": [
      "[[1]\n",
      " [2]]\n"
     ]
    },
    {
     "data": {
      "text/plain": [
       "matrix([[1, 1],\n",
       "        [2, 2]])"
      ]
     },
     "execution_count": 14,
     "metadata": {},
     "output_type": "execute_result"
    }
   ],
   "source": [
    "y = np.matrix([1,2]).T\n",
    "print (y)\n",
    "np.repeat(y, 2, axis=1)"
   ]
  },
  {
   "cell_type": "code",
   "execution_count": 25,
   "metadata": {},
   "outputs": [
    {
     "name": "stdout",
     "output_type": "stream",
     "text": [
      "[[ 14  14  14  14]\n",
      " [ 77  77  77  77]\n",
      " [194 194 194 194]\n",
      " [ 25  25  25  25]]\n",
      "(4, 4)\n",
      "[[ 14  14  14  14]\n",
      " [ 77  77  77  77]\n",
      " [194 194 194 194]\n",
      " [ 25  25  25  25]]\n",
      "(4, 4)\n",
      "[[  0  27 108   3]\n",
      " [ 27   0  27  24]\n",
      " [108  27   0  99]\n",
      " [  3  24  99   0]]\n",
      "[[1.         0.25924026 0.00451658 0.86070798]\n",
      " [0.25924026 1.         0.25924026 0.30119421]\n",
      " [0.00451658 0.25924026 1.         0.00708341]\n",
      " [0.86070798 0.30119421 0.00708341 1.        ]]\n"
     ]
    }
   ],
   "source": [
    "def gaussianB (X):\n",
    "    X = np.matrix(X)\n",
    "    m, n = X.shape\n",
    "    XtX = np.multiply(X, X)\n",
    "    XtX = np.sum(XtX, axis=1).reshape(m,1)\n",
    "    XtX = np.repeat(XtX, m, axis=1)\n",
    "    print (XtX)\n",
    "    print ((X*X.T).shape)\n",
    "    return XtX + XtX.T - 2*X*X.T\n",
    "\n",
    "def gaussianM (X):\n",
    "    XB = gaussianB(X)\n",
    "    gamma = 0.05\n",
    "    return np.exp ( -gamma * XB)\n",
    "    \n",
    "X = np.array([[1,2,3], [4,5,6], [7,8,9], [0,3,4]])\n",
    "G = gaussianB(X)\n",
    "M = gaussianM(X)\n",
    "print (G)\n",
    "print (M)"
   ]
  },
  {
   "cell_type": "code",
   "execution_count": 29,
   "metadata": {},
   "outputs": [
    {
     "name": "stdout",
     "output_type": "stream",
     "text": [
      "[[1 2 3]\n",
      " [4 5 6]\n",
      " [7 8 9]\n",
      " [0 3 4]]\n",
      "[[ 0  0  0]\n",
      " [ 3  3  3]\n",
      " [ 6  6  6]\n",
      " [-1  1  1]]\n",
      "[ 6 15 24  7]\n"
     ]
    }
   ],
   "source": [
    "print (X)\n",
    "print (X - [1,2,3])\n",
    "print (np.sum(X, axis=1))"
   ]
  },
  {
   "cell_type": "code",
   "execution_count": 31,
   "metadata": {},
   "outputs": [
    {
     "data": {
      "text/plain": [
       "array([10, 20, 30])"
      ]
     },
     "execution_count": 31,
     "metadata": {},
     "output_type": "execute_result"
    }
   ],
   "source": [
    "def test(x):\n",
    "    return x*10\n",
    "\n",
    "a = np.array([1,2,3])\n",
    "test(a)"
   ]
  },
  {
   "cell_type": "code",
   "execution_count": null,
   "metadata": {},
   "outputs": [],
   "source": []
  }
 ],
 "metadata": {
  "kernelspec": {
   "display_name": "Python 3",
   "language": "python",
   "name": "python3"
  },
  "language_info": {
   "codemirror_mode": {
    "name": "ipython",
    "version": 3
   },
   "file_extension": ".py",
   "mimetype": "text/x-python",
   "name": "python",
   "nbconvert_exporter": "python",
   "pygments_lexer": "ipython3",
   "version": "3.7.1"
  }
 },
 "nbformat": 4,
 "nbformat_minor": 2
}
