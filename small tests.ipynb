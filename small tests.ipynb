{
 "cells": [
  {
   "cell_type": "code",
   "execution_count": 159,
   "metadata": {},
   "outputs": [
    {
     "name": "stdout",
     "output_type": "stream",
     "text": [
      "['This' 'is' 'doc' 'number']\n",
      "['Hey' \"it's\" 'doc' '2']\n",
      "['boo' 'document' 'no']\n",
      "['hooa' 'hoo']\n",
      "['bola' 'bola' 'bola']\n"
     ]
    }
   ],
   "source": [
    "import numpy as np\n",
    "\n",
    "def gen_docs ():\n",
    "    docs = [\n",
    "        [\"This\", \"is\", \"doc\", \"number\"],\n",
    "        [\"Hey\", \"it's\",\"doc\", \"2\"],\n",
    "        [\"boo\", \"document\", \"no\"],\n",
    "        [\"hooa\", \"hoo\"],\n",
    "        [\"bola\", \"bola\", \"bola\"],\n",
    "    ]\n",
    "    \n",
    "    for doc in docs:\n",
    "        yield(np.array(doc))\n",
    "        \n",
    "def gen_ratings ():\n",
    "    ratings = [\n",
    "        \"3\",\n",
    "        \"4\",\n",
    "        \"1\",\n",
    "        \"5\",\n",
    "        \"2\"\n",
    "    ]\n",
    "        \n",
    "    for r in ratings:\n",
    "        yield(int(r))\n",
    "        \n",
    "for doc in gen_docs():\n",
    "    print (doc)"
   ]
  },
  {
   "cell_type": "code",
   "execution_count": 160,
   "metadata": {},
   "outputs": [
    {
     "name": "stdout",
     "output_type": "stream",
     "text": [
      "{'This': 0, 'is': 1, 'doc': 2, 'number': 3, 'Hey': 4, \"it's\": 5, '2': 6, 'boo': 7, 'document': 8, 'no': 9, 'hooa': 10, 'hoo': 11, 'bola': 12}\n"
     ]
    }
   ],
   "source": [
    "import numpy as np\n",
    "docs = np.array([doc for doc in gen_docs()])\n",
    "ratings = np.array([rating for rating in gen_ratings()])\n",
    "\n",
    "# dictionary = np.unique(np.concatenate(docs))\n",
    "# dictionary = { doc : idx for idx, doc in enumerate(dictionary)}\n",
    "# print (ratings, docs, dictionary)\n",
    "\n",
    "dictionary = {}\n",
    "for doc in gen_docs():\n",
    "    for word in doc:\n",
    "        dictionary[word] = 0\n",
    "        \n",
    "dictionary = { word : idx for idx, word in enumerate(dictionary)}\n",
    "\n",
    "print (dictionary)\n"
   ]
  },
  {
   "cell_type": "code",
   "execution_count": 165,
   "metadata": {},
   "outputs": [
    {
     "name": "stdout",
     "output_type": "stream",
     "text": [
      "[-1.61 -1.61 -1.61 -1.61 -1.61]\n"
     ]
    }
   ],
   "source": [
    "# Computing Phi's\n",
    "Phi = np.zeros(5)\n",
    "\n",
    "totalRatings = 0\n",
    "for rating in gen_ratings():\n",
    "    totalRatings += 1\n",
    "    Phi[rating - 1] += 1\n",
    "\n",
    "Phi /= totalRatings\n",
    "Phi = np.log(Phi)\n",
    "# for r in range (0, 5):\n",
    "#     Phi[r] = np.sum(ratings == r+1) / len (ratings)\n",
    "#     Phi[r] = np.log(Phi[r])\n",
    "    \n",
    "print (Phi)"
   ]
  },
  {
   "cell_type": "code",
   "execution_count": 162,
   "metadata": {},
   "outputs": [
    {
     "name": "stdout",
     "output_type": "stream",
     "text": [
      "13\n",
      "{'This': 0, 'is': 1, 'doc': 2, 'number': 3, 'Hey': 4, \"it's\": 5, '2': 6, 'boo': 7, 'document': 8, 'no': 9, 'hooa': 10, 'hoo': 11, 'bola': 12} \n",
      "\n",
      "yay ['This' 'is' 'doc' 'number'] 3\n",
      "yay ['Hey' \"it's\" 'doc' '2'] 4\n",
      "yay ['boo' 'document' 'no'] 1\n",
      "yay ['hooa' 'hoo'] 5\n",
      "yay ['bola' 'bola' 'bola'] 2\n",
      "[[1. 1. 2. 1. 1.]\n",
      " [1. 1. 2. 1. 1.]\n",
      " [1. 1. 2. 2. 1.]\n",
      " [1. 1. 2. 1. 1.]\n",
      " [1. 1. 1. 2. 1.]\n",
      " [1. 1. 1. 2. 1.]\n",
      " [1. 1. 1. 2. 1.]\n",
      " [2. 1. 1. 1. 1.]\n",
      " [2. 1. 1. 1. 1.]\n",
      " [2. 1. 1. 1. 1.]\n",
      " [1. 1. 1. 1. 2.]\n",
      " [1. 1. 1. 1. 2.]\n",
      " [1. 4. 1. 1. 1.]]\n",
      "[[16. 16. 17. 17. 15.]\n",
      " [16. 16. 17. 17. 15.]\n",
      " [16. 16. 17. 17. 15.]\n",
      " [16. 16. 17. 17. 15.]\n",
      " [16. 16. 17. 17. 15.]\n",
      " [16. 16. 17. 17. 15.]\n",
      " [16. 16. 17. 17. 15.]\n",
      " [16. 16. 17. 17. 15.]\n",
      " [16. 16. 17. 17. 15.]\n",
      " [16. 16. 17. 17. 15.]\n",
      " [16. 16. 17. 17. 15.]\n",
      " [16. 16. 17. 17. 15.]\n",
      " [16. 16. 17. 17. 15.]]\n",
      "[[-2.77 -2.77 -2.14 -2.83 -2.71]\n",
      " [-2.77 -2.77 -2.14 -2.83 -2.71]\n",
      " [-2.77 -2.77 -2.14 -2.14 -2.71]\n",
      " [-2.77 -2.77 -2.14 -2.83 -2.71]\n",
      " [-2.77 -2.77 -2.83 -2.14 -2.71]\n",
      " [-2.77 -2.77 -2.83 -2.14 -2.71]\n",
      " [-2.77 -2.77 -2.83 -2.14 -2.71]\n",
      " [-2.08 -2.77 -2.83 -2.83 -2.71]\n",
      " [-2.08 -2.77 -2.83 -2.83 -2.71]\n",
      " [-2.08 -2.77 -2.83 -2.83 -2.71]\n",
      " [-2.77 -2.77 -2.83 -2.83 -2.01]\n",
      " [-2.77 -2.77 -2.83 -2.83 -2.01]\n",
      " [-2.77 -1.39 -2.83 -2.83 -2.71]]\n"
     ]
    }
   ],
   "source": [
    "# Computing ThetaWK's\n",
    "V = len(dictionary)\n",
    "print (V)\n",
    "\n",
    "ThetaNum = np.zeros((V, 5)) + 1\n",
    "ThetaDeno = np.zeros((V, 5)) + V \n",
    "\n",
    "def computeFreq (doc, rating):\n",
    "#     w = dictionary()\n",
    "    k = rating - 1\n",
    "    print (\"yay\", doc, rating)\n",
    "    ThetaDeno[:, k] += len(doc)\n",
    "    \n",
    "    for word, idx in dictionary.items():\n",
    "        f = np.sum(doc == word)\n",
    "        ThetaNum[idx][k] += f\n",
    "    \n",
    "    return 0\n",
    "    \n",
    "# print (docs, ratings)\n",
    "print (dictionary, '\\n')\n",
    "# vComputeFreq = np.vectorize(computeFreq, otypes=[int])\n",
    "# vComputeFreq(docs, ratings)\n",
    "\n",
    "for doc, rating in zip(gen_docs(), gen_ratings()):\n",
    "    computeFreq (doc, rating)\n",
    "    \n",
    "Theta = np.log(ThetaNum / ThetaDeno)\n",
    "\n",
    "np.set_printoptions(precision=2)\n",
    "print (ThetaNum)\n",
    "print (ThetaDeno)\n",
    "print (Theta)\n",
    "\n"
   ]
  },
  {
   "cell_type": "code",
   "execution_count": 163,
   "metadata": {},
   "outputs": [
    {
     "name": "stdout",
     "output_type": "stream",
     "text": [
      "Accuracy: 100.00%\n"
     ]
    }
   ],
   "source": [
    "# Predictions\n",
    "def predictClass (doc):\n",
    "    probs = np.zeros(5)\n",
    "    for k in range(0, 5):\n",
    "        probs[k] += Phi[k];\n",
    "        for word in doc:\n",
    "            w = dictionary[word]\n",
    "            probs[k] += Theta[w][k]\n",
    "    return np.argmax(probs) + 1\n",
    "\n",
    "correctPredictions = 0\n",
    "totalPredictions = 0\n",
    "for doc, rating in zip(gen_docs(), gen_ratings()):\n",
    "    prediction = predictClass (doc)\n",
    "    totalPredictions += 1\n",
    "    if (prediction == rating):\n",
    "        correctPredictions += 1\n",
    "    \n",
    "print (\"Accuracy: %.2f%%\" % (correctPredictions * 100 / totalPredictions))"
   ]
  },
  {
   "cell_type": "code",
   "execution_count": null,
   "metadata": {},
   "outputs": [],
   "source": []
  }
 ],
 "metadata": {
  "kernelspec": {
   "display_name": "Python 3",
   "language": "python",
   "name": "python3"
  },
  "language_info": {
   "codemirror_mode": {
    "name": "ipython",
    "version": 3
   },
   "file_extension": ".py",
   "mimetype": "text/x-python",
   "name": "python",
   "nbconvert_exporter": "python",
   "pygments_lexer": "ipython3",
   "version": "3.7.1"
  }
 },
 "nbformat": 4,
 "nbformat_minor": 2
}
