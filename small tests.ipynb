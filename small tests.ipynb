{
 "cells": [
  {
   "cell_type": "code",
   "execution_count": 121,
   "metadata": {},
   "outputs": [
    {
     "name": "stdout",
     "output_type": "stream",
     "text": [
      "['This' 'is' 'doc' 'number']\n",
      "['Hey' \"it's\" 'doc' '2']\n",
      "['boo' 'document' 'no']\n",
      "['hooa' 'hoo']\n",
      "['bola' 'bola' 'bola']\n"
     ]
    }
   ],
   "source": [
    "import numpy as np\n",
    "\n",
    "def gen_docs ():\n",
    "    docs = [\n",
    "        [\"This\", \"is\", \"doc\", \"number\"],\n",
    "        [\"Hey\", \"it's\",\"doc\", \"2\"],\n",
    "        [\"boo\", \"document\", \"no\"],\n",
    "        [\"hooa\", \"hoo\"],\n",
    "        [\"bola\", \"bola\", \"bola\"],\n",
    "    ]\n",
    "    \n",
    "    for doc in docs:\n",
    "        yield(np.array(doc))\n",
    "        \n",
    "def gen_ratings ():\n",
    "    ratings = [\n",
    "        \"3\",\n",
    "        \"4\",\n",
    "        \"1\",\n",
    "        \"5\",\n",
    "        \"2\"\n",
    "    ]\n",
    "        \n",
    "    for r in ratings:\n",
    "        yield(int(r))\n",
    "        \n",
    "for doc in gen_docs():\n",
    "    print (doc)"
   ]
  },
  {
   "cell_type": "code",
   "execution_count": 122,
   "metadata": {},
   "outputs": [
    {
     "name": "stdout",
     "output_type": "stream",
     "text": [
      "[3 4 1 5 2] [array(['This', 'is', 'doc', 'number'], dtype='<U6')\n",
      " array(['Hey', \"it's\", 'doc', '2'], dtype='<U4')\n",
      " array(['boo', 'document', 'no'], dtype='<U8')\n",
      " array(['hooa', 'hoo'], dtype='<U4')\n",
      " array(['bola', 'bola', 'bola'], dtype='<U4')] {'2': 0, 'Hey': 1, 'This': 2, 'bola': 3, 'boo': 4, 'doc': 5, 'document': 6, 'hoo': 7, 'hooa': 8, 'is': 9, \"it's\": 10, 'no': 11, 'number': 12}\n"
     ]
    }
   ],
   "source": [
    "import numpy as np\n",
    "docs = np.array([doc for doc in gen_docs()])\n",
    "ratings = np.array([rating for rating in gen_ratings()])\n",
    "\n",
    "dictionary = np.unique(np.concatenate(docs))\n",
    "dictionary = { doc : idx for idx, doc in enumerate(dictionary)}\n",
    "print (ratings, docs, dictionary)\n"
   ]
  },
  {
   "cell_type": "code",
   "execution_count": 123,
   "metadata": {},
   "outputs": [
    {
     "name": "stdout",
     "output_type": "stream",
     "text": [
      "[-1.6094379124341003, -1.6094379124341003, -1.6094379124341003, -1.6094379124341003, -1.6094379124341003]\n"
     ]
    }
   ],
   "source": [
    "# Computing Phi's\n",
    "Phi = [None] * 5\n",
    "for r in range (0, 5):\n",
    "    Phi[r] = np.sum(ratings == r+1) / len (ratings)\n",
    "    Phi[r] = np.log(Phi[r])\n",
    "    \n",
    "print (Phi)"
   ]
  },
  {
   "cell_type": "code",
   "execution_count": 126,
   "metadata": {},
   "outputs": [
    {
     "name": "stdout",
     "output_type": "stream",
     "text": [
      "13\n",
      "{'2': 0, 'Hey': 1, 'This': 2, 'bola': 3, 'boo': 4, 'doc': 5, 'document': 6, 'hoo': 7, 'hooa': 8, 'is': 9, \"it's\": 10, 'no': 11, 'number': 12} \n",
      "\n",
      "yay ['This' 'is' 'doc' 'number'] 3\n",
      "yay ['Hey' \"it's\" 'doc' '2'] 4\n",
      "yay ['boo' 'document' 'no'] 1\n",
      "yay ['hooa' 'hoo'] 5\n",
      "yay ['bola' 'bola' 'bola'] 2\n",
      "[[1. 1. 1. 2. 1.]\n",
      " [1. 1. 1. 2. 1.]\n",
      " [1. 1. 2. 1. 1.]\n",
      " [1. 4. 1. 1. 1.]\n",
      " [2. 1. 1. 1. 1.]\n",
      " [1. 1. 2. 2. 1.]\n",
      " [2. 1. 1. 1. 1.]\n",
      " [1. 1. 1. 1. 2.]\n",
      " [1. 1. 1. 1. 2.]\n",
      " [1. 1. 2. 1. 1.]\n",
      " [1. 1. 1. 2. 1.]\n",
      " [2. 1. 1. 1. 1.]\n",
      " [1. 1. 2. 1. 1.]]\n",
      "[[16. 16. 17. 17. 15.]\n",
      " [16. 16. 17. 17. 15.]\n",
      " [16. 16. 17. 17. 15.]\n",
      " [16. 16. 17. 17. 15.]\n",
      " [16. 16. 17. 17. 15.]\n",
      " [16. 16. 17. 17. 15.]\n",
      " [16. 16. 17. 17. 15.]\n",
      " [16. 16. 17. 17. 15.]\n",
      " [16. 16. 17. 17. 15.]\n",
      " [16. 16. 17. 17. 15.]\n",
      " [16. 16. 17. 17. 15.]\n",
      " [16. 16. 17. 17. 15.]\n",
      " [16. 16. 17. 17. 15.]]\n",
      "[[-2.77 -2.77 -2.83 -2.14 -2.71]\n",
      " [-2.77 -2.77 -2.83 -2.14 -2.71]\n",
      " [-2.77 -2.77 -2.14 -2.83 -2.71]\n",
      " [-2.77 -1.39 -2.83 -2.83 -2.71]\n",
      " [-2.08 -2.77 -2.83 -2.83 -2.71]\n",
      " [-2.77 -2.77 -2.14 -2.14 -2.71]\n",
      " [-2.08 -2.77 -2.83 -2.83 -2.71]\n",
      " [-2.77 -2.77 -2.83 -2.83 -2.01]\n",
      " [-2.77 -2.77 -2.83 -2.83 -2.01]\n",
      " [-2.77 -2.77 -2.14 -2.83 -2.71]\n",
      " [-2.77 -2.77 -2.83 -2.14 -2.71]\n",
      " [-2.08 -2.77 -2.83 -2.83 -2.71]\n",
      " [-2.77 -2.77 -2.14 -2.83 -2.71]]\n"
     ]
    }
   ],
   "source": [
    "# Computing ThetaWK's\n",
    "V = len(dictionary)\n",
    "print (V)\n",
    "\n",
    "ThetaNum = np.zeros((V, 5)) + 1\n",
    "ThetaDeno = np.zeros((V, 5)) + V \n",
    "\n",
    "def computeFreq (doc, rating):\n",
    "#     w = dictionary()\n",
    "    k = rating - 1\n",
    "    print (\"yay\", doc, rating)\n",
    "    ThetaDeno[:, k] += len(doc)\n",
    "    \n",
    "    for word, idx in dictionary.items():\n",
    "        f = np.sum(doc == word)\n",
    "        ThetaNum[idx][k] += f\n",
    "    \n",
    "    return 0\n",
    "    \n",
    "# print (docs, ratings)\n",
    "print (dictionary, '\\n')\n",
    "# vComputeFreq = np.vectorize(computeFreq, otypes=[int])\n",
    "# vComputeFreq(docs, ratings)\n",
    "\n",
    "for doc, rating in zip(gen_docs(), gen_ratings()):\n",
    "    computeFreq (doc, rating)\n",
    "    \n",
    "Theta = np.log(ThetaNum / ThetaDeno)\n",
    "\n",
    "np.set_printoptions(precision=2)\n",
    "print (ThetaNum)\n",
    "print (ThetaDeno)\n",
    "print (Theta)\n",
    "\n"
   ]
  },
  {
   "cell_type": "code",
   "execution_count": 140,
   "metadata": {},
   "outputs": [
    {
     "name": "stdout",
     "output_type": "stream",
     "text": [
      "[-12.7  -12.7  -10.17 -12.25 -12.44]\n",
      "3\n",
      "[-12.7  -12.7  -12.25 -10.17 -12.44]\n",
      "4\n",
      "[ -7.85  -9.93 -10.11 -10.11  -9.73]\n",
      "1\n",
      "[-7.15 -7.15 -7.28 -7.28 -5.64]\n",
      "5\n",
      "[ -9.93  -5.77 -10.11 -10.11  -9.73]\n",
      "2\n"
     ]
    }
   ],
   "source": [
    "# Predictions\n",
    "def predictClass (doc):\n",
    "    probs = np.zeros(5)\n",
    "    for k in range(0, 5):\n",
    "        probs[k] += Phi[k];\n",
    "        for word in doc:\n",
    "            w = dictionary[word]\n",
    "            probs[k] += Theta[w][k]\n",
    "    print (probs)\n",
    "    return np.argmax(probs) + 1\n",
    "\n",
    "\n",
    "for doc in docs:\n",
    "    prediction = predictClass (doc)\n",
    "    print (prediction)"
   ]
  },
  {
   "cell_type": "code",
   "execution_count": null,
   "metadata": {},
   "outputs": [],
   "source": []
  }
 ],
 "metadata": {
  "kernelspec": {
   "display_name": "Python 3",
   "language": "python",
   "name": "python3"
  },
  "language_info": {
   "codemirror_mode": {
    "name": "ipython",
    "version": 3
   },
   "file_extension": ".py",
   "mimetype": "text/x-python",
   "name": "python",
   "nbconvert_exporter": "python",
   "pygments_lexer": "ipython3",
   "version": "3.7.1"
  }
 },
 "nbformat": 4,
 "nbformat_minor": 2
}
