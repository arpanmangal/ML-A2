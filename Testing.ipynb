{
 "cells": [
  {
   "cell_type": "code",
   "execution_count": 33,
   "metadata": {},
   "outputs": [],
   "source": [
    "def my_gen(arr):\n",
    "#     arr = [1,2,3,4,5]\n",
    "    for a in arr:\n",
    "        yield(a)"
   ]
  },
  {
   "cell_type": "code",
   "execution_count": 34,
   "metadata": {},
   "outputs": [],
   "source": [
    "# a = my_gen()\n",
    "arr = [1,2,3,4,5,89]"
   ]
  },
  {
   "cell_type": "code",
   "execution_count": 57,
   "metadata": {},
   "outputs": [
    {
     "data": {
      "text/plain": [
       "1"
      ]
     },
     "execution_count": 57,
     "metadata": {},
     "output_type": "execute_result"
    }
   ],
   "source": [
    "next(my_gen(arr))"
   ]
  },
  {
   "cell_type": "code",
   "execution_count": 58,
   "metadata": {},
   "outputs": [
    {
     "name": "stdout",
     "output_type": "stream",
     "text": [
      "1\n",
      "2\n",
      "3\n",
      "4\n",
      "5\n",
      "89\n"
     ]
    }
   ],
   "source": [
    "for item in my_gen(arr):\n",
    "    print (item)"
   ]
  },
  {
   "cell_type": "code",
   "execution_count": 1,
   "metadata": {},
   "outputs": [
    {
     "name": "stdout",
     "output_type": "stream",
     "text": [
      "This is doc number 1\n",
      "Hey it's doc 2\n",
      "boo document no 3\n"
     ]
    }
   ],
   "source": [
    "def gen_docs ():\n",
    "    docs = [\n",
    "        \"This is doc number 1\",\n",
    "        \"Hey it's doc 2\",\n",
    "        \"boo document no 3\"\n",
    "    ]\n",
    "    \n",
    "    for doc in docs:\n",
    "        yield(doc)\n",
    "        \n",
    "for doc in gen_docs():\n",
    "    print (doc)"
   ]
  },
  {
   "cell_type": "code",
   "execution_count": 2,
   "metadata": {},
   "outputs": [
    {
     "name": "stderr",
     "output_type": "stream",
     "text": [
      "[nltk_data] Downloading package punkt to\n",
      "[nltk_data]     /home/arpanmangal/nltk_data...\n",
      "[nltk_data]   Unzipping tokenizers/punkt.zip.\n"
     ]
    }
   ],
   "source": [
    "import nltk\n",
    "nltk.download('punkt')\n",
    "from nltk.tokenize import word_tokenize"
   ]
  },
  {
   "cell_type": "code",
   "execution_count": 3,
   "metadata": {},
   "outputs": [
    {
     "name": "stdout",
     "output_type": "stream",
     "text": [
      "['Mary', 'had', 'a', 'little', 'lamb']\n",
      "['Jack', 'went', 'up', 'the', 'hill']\n",
      "['Jill', 'followed', 'suit']\n",
      "['i', 'woke', 'up', 'suddenly']\n",
      "['it', 'was', 'a', 'really', 'bad', 'dream', '...']\n"
     ]
    }
   ],
   "source": [
    "example = ['Mary had a little lamb' , \n",
    "           'Jack went up the hill' , \n",
    "           'Jill followed suit' ,    \n",
    "           'i woke up suddenly' ,\n",
    "           'it was a really bad dream...']\n",
    "tokenized_sents = [word_tokenize(i) for i in example]\n",
    "for i in tokenized_sents:\n",
    "    print (i)"
   ]
  },
  {
   "cell_type": "code",
   "execution_count": null,
   "metadata": {},
   "outputs": [],
   "source": []
  }
 ],
 "metadata": {
  "kernelspec": {
   "display_name": "Python 3",
   "language": "python",
   "name": "python3"
  },
  "language_info": {
   "codemirror_mode": {
    "name": "ipython",
    "version": 3
   },
   "file_extension": ".py",
   "mimetype": "text/x-python",
   "name": "python",
   "nbconvert_exporter": "python",
   "pygments_lexer": "ipython3",
   "version": "3.7.1"
  }
 },
 "nbformat": 4,
 "nbformat_minor": 2
}
