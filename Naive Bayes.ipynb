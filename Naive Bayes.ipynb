{
 "cells": [
  {
   "cell_type": "code",
   "execution_count": 1,
   "metadata": {},
   "outputs": [],
   "source": [
    "import json\n",
    "\n",
    "def json_reader(fname):\n",
    "    \"\"\"\n",
    "        Read multiple json files\n",
    "        Args:\n",
    "            fname: str: input file\n",
    "        Returns:\n",
    "            generator: iterator over documents \n",
    "    \"\"\"\n",
    "    for line in open(fname, mode=\"r\"):\n",
    "        data = json.loads(line)\n",
    "        yield {'rating': data['stars'], 'review': data['text']}\n",
    "        "
   ]
  },
  {
   "cell_type": "code",
   "execution_count": 5,
   "metadata": {},
   "outputs": [],
   "source": [
    "trainset = './dataset/NB/test.json'\n",
    "data = json_reader(trainset)"
   ]
  },
  {
   "cell_type": "code",
   "execution_count": 6,
   "metadata": {},
   "outputs": [],
   "source": [
    "import sys\n",
    "import json\n",
    "import time\n",
    "import pickle\n",
    "import numpy as np\n",
    "from sklearn.feature_extraction.text import CountVectorizer\n",
    "from sklearn.linear_model import LogisticRegression"
   ]
  },
  {
   "cell_type": "code",
   "execution_count": null,
   "metadata": {},
   "outputs": [],
   "source": [
    "ratings = []\n",
    "reviews = []\n",
    "\n",
    "for datum in data:\n",
    "    ratings.append(datum['rating'])\n",
    "    reviews.append(datum['review'])\n",
    "\n",
    "ratings = np.array(ratings)\n",
    "reviews = np.array(reviews)\n",
    "print (len(ratings))"
   ]
  },
  {
   "cell_type": "code",
   "execution_count": 9,
   "metadata": {},
   "outputs": [
    {
     "name": "stdout",
     "output_type": "stream",
     "text": [
      "Time Taken:  18.569052934646606\n"
     ]
    }
   ],
   "source": [
    "tick = time.time()\n",
    "vectorizer = CountVectorizer()\n",
    "X = vectorizer.fit_transform(reviews)\n",
    "print (\"Time Taken: \", time.time() - tick)"
   ]
  },
  {
   "cell_type": "code",
   "execution_count": 12,
   "metadata": {},
   "outputs": [
    {
     "name": "stdout",
     "output_type": "stream",
     "text": [
      "(133718, 93529)\n",
      "<class 'scipy.sparse.csr.csr_matrix'>\n"
     ]
    }
   ],
   "source": [
    "print (X.shape)\n",
    "print (type(X))"
   ]
  },
  {
   "cell_type": "code",
   "execution_count": 27,
   "metadata": {},
   "outputs": [
    {
     "name": "stdout",
     "output_type": "stream",
     "text": [
      "(133718,)\n",
      "(133718,)\n",
      "(133718,)\n",
      "(133718,)\n",
      "(133718,)\n",
      "[array([False, False, False, ...,  True, False,  True]), array([False, False, False, ..., False, False, False]), array([False, False, False, ..., False, False, False]), array([False,  True,  True, ..., False,  True, False]), array([ True, False, False, ..., False, False, False])]\n"
     ]
    }
   ],
   "source": [
    "classMatrices = []\n",
    "for c in range(1, 6):\n",
    "    classMatrices.append(np.array(ratings == c))\n",
    "    print (classMatrices[c-1].shape)\n",
    "    \n",
    "# classMatrices = np.array(classMatrices)\n",
    "print (classMatrices)"
   ]
  },
  {
   "cell_type": "code",
   "execution_count": 43,
   "metadata": {},
   "outputs": [
    {
     "name": "stdout",
     "output_type": "stream",
     "text": [
      "[20169, 10838, 14531, 29358, 58822]\n",
      "133718\n"
     ]
    }
   ],
   "source": [
    "# print (X.shape, (np.transpose(classMatrices[0])).shape)\n",
    "# Find model paramenters\n",
    "PhiY = []\n",
    "for c in range (0, 5):\n",
    "    PhiY.append(np.sum(classMatrices[c]))\n",
    "    \n",
    "print (PhiY)\n",
    "print (np.sum(PhiY))"
   ]
  },
  {
   "cell_type": "code",
   "execution_count": 47,
   "metadata": {},
   "outputs": [
    {
     "name": "stdout",
     "output_type": "stream",
     "text": [
      "[array([949, 262,   2, ...,   0,   0,   0], dtype=int64), array([375,  31,   1, ...,   0,   0,   0], dtype=int64), array([326,  16,   0, ...,   1,   0,   0], dtype=int64), array([464,  49,   0, ...,   0,   0,   0], dtype=int64), array([443, 111,   0, ...,   0,   1,   1], dtype=int64)]\n",
      "[[949 262   2 ...   0   0   0]\n",
      " [375  31   1 ...   0   0   0]\n",
      " [326  16   0 ...   1   0   0]\n",
      " [464  49   0 ...   0   0   0]\n",
      " [443 111   0 ...   0   1   1]] <class 'numpy.ndarray'>\n"
     ]
    }
   ],
   "source": [
    "PhiKY = []\n",
    "Xt = X.transpose()\n",
    "\n",
    "for c in range (0, 5):\n",
    "    PhiKY.append( Xt.dot(classMatrices[c]) )\n",
    "    \n",
    "print (PhiKY)\n",
    "PhiKY = np.array(PhiKY)\n",
    "print (PhiKY, type(PhiKY))\n",
    "# print (Xt.shape, classMatrices[4].shape)\n",
    "# S = Xt.dot(classMatrices[4])\n",
    "# print (S.shape, S[:100])"
   ]
  },
  {
   "cell_type": "code",
   "execution_count": null,
   "metadata": {},
   "outputs": [],
   "source": []
  },
  {
   "cell_type": "code",
   "execution_count": 26,
   "metadata": {},
   "outputs": [
    {
     "name": "stdout",
     "output_type": "stream",
     "text": [
      "(4, 3) (3,)\n"
     ]
    },
    {
     "data": {
      "text/plain": [
       "array([ 1, -3, -1, -2], dtype=int64)"
      ]
     },
     "execution_count": 26,
     "metadata": {},
     "output_type": "execute_result"
    }
   ],
   "source": []
  },
  {
   "cell_type": "code",
   "execution_count": null,
   "metadata": {},
   "outputs": [],
   "source": []
  },
  {
   "cell_type": "code",
   "execution_count": null,
   "metadata": {},
   "outputs": [],
   "source": []
  },
  {
   "cell_type": "code",
   "execution_count": 39,
   "metadata": {},
   "outputs": [
    {
     "name": "stdout",
     "output_type": "stream",
     "text": [
      "[False  True  True False]\n"
     ]
    },
    {
     "data": {
      "text/plain": [
       "2"
      ]
     },
     "execution_count": 39,
     "metadata": {},
     "output_type": "execute_result"
    }
   ],
   "source": [
    "a = np.array([1,2,2,3])\n",
    "b = (a == 2)\n",
    "print (b)\n",
    "np.sum(b)"
   ]
  }
 ],
 "metadata": {
  "kernelspec": {
   "display_name": "Python 3",
   "language": "python",
   "name": "python3"
  },
  "language_info": {
   "codemirror_mode": {
    "name": "ipython",
    "version": 3
   },
   "file_extension": ".py",
   "mimetype": "text/x-python",
   "name": "python",
   "nbconvert_exporter": "python",
   "pygments_lexer": "ipython3",
   "version": "3.7.1"
  }
 },
 "nbformat": 4,
 "nbformat_minor": 2
}
